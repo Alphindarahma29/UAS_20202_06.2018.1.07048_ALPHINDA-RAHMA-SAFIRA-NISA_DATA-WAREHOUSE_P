{
 "cells": [
  {
   "cell_type": "code",
   "execution_count": 2,
   "metadata": {},
   "outputs": [
    {
     "data": {
      "text/html": [
       "<style>div.output_scroll { height: 44em; }</style>"
      ],
      "text/plain": [
       "<IPython.core.display.HTML object>"
      ]
     },
     "metadata": {},
     "output_type": "display_data"
    }
   ],
   "source": [
    "import pandas as pd\n",
    "import sqlite3\n",
    "import math\n",
    "import datetime \n",
    "import numpy as np\n",
    "import matplotlib.pyplot as plt\n",
    "import seaborn as sns\n",
    "plt.style.use('fivethirtyeight')\n",
    "\n",
    "from IPython.core.display import display, HTML\n",
    "display(HTML(\"<style>div.output_scroll { height: 44em; }</style>\"))"
   ]
  },
  {
   "cell_type": "code",
   "execution_count": 3,
   "metadata": {},
   "outputs": [],
   "source": [
    "conn = sqlite3.connect('database.db')"
   ]
  },
  {
   "cell_type": "code",
   "execution_count": 4,
   "metadata": {},
   "outputs": [],
   "source": [
    "c = conn.cursor()"
   ]
  },
  {
   "cell_type": "markdown",
   "metadata": {},
   "source": [
    "# Desain Database Datawarehouse"
   ]
  },
  {
   "cell_type": "markdown",
   "metadata": {},
   "source": [
    "<img src =\"snowflake.png\"/>"
   ]
  },
  {
   "cell_type": "code",
   "execution_count": 5,
   "metadata": {},
   "outputs": [
    {
     "data": {
      "text/plain": [
       "<sqlite3.Cursor at 0x24f5e343260>"
      ]
     },
     "execution_count": 5,
     "metadata": {},
     "output_type": "execute_result"
    }
   ],
   "source": [
    "c.executescript('drop table if exists kota')\n",
    "c.executescript('drop table if exists customer')\n",
    "c.executescript('drop table if exists produk')\n",
    "c.executescript('drop table if exists penjualan')\n",
    "c.execute(\"CREATE TABLE IF NOT EXISTS 'kota' ('id' INT, 'nama_kota' VARCHAR(255) NULL, PRIMARY KEY ('id'))\")\n",
    "c.execute(\"CREATE TABLE IF NOT EXISTS 'customer' ('id' INT, 'nama_customer' VARCHAR(255) NULL, 'kota_id' INT NOT NULL, PRIMARY KEY ('id'), FOREIGN KEY ('kota_id') REFERENCES 'kota' ('id') ON DELETE NO ACTION ON UPDATE NO ACTION)\")\n",
    "c.execute(\"CREATE TABLE IF NOT EXISTS 'produk' ( 'id' INT, 'nama_produk' VARCHAR(255) NULL, 'harga_produk' FLOAT NULL, PRIMARY KEY ('id'))\")\n",
    "c.execute(\"CREATE TABLE IF NOT EXISTS 'penjualan' ( 'id', 'tanggal_penjualan' DATE NULL, 'jumlah_beli' INT NULL, 'customer_id' INT NOT NULL,'produk_id' INT NOT NULL, PRIMARY KEY ('id'), FOREIGN KEY ('customer_id') REFERENCES 'customer' ('id') ON DELETE NO ACTION ON UPDATE NO ACTION, FOREIGN KEY ('produk_id') REFERENCES 'produk' ('id') ON DELETE NO ACTION ON UPDATE NO ACTION)\")"
   ]
  },
  {
   "cell_type": "code",
   "execution_count": 6,
   "metadata": {},
   "outputs": [
    {
     "data": {
      "text/html": [
       "<div>\n",
       "<style scoped>\n",
       "    .dataframe tbody tr th:only-of-type {\n",
       "        vertical-align: middle;\n",
       "    }\n",
       "\n",
       "    .dataframe tbody tr th {\n",
       "        vertical-align: top;\n",
       "    }\n",
       "\n",
       "    .dataframe thead th {\n",
       "        text-align: right;\n",
       "    }\n",
       "</style>\n",
       "<table border=\"1\" class=\"dataframe\">\n",
       "  <thead>\n",
       "    <tr style=\"text-align: right;\">\n",
       "      <th></th>\n",
       "      <th>Nota</th>\n",
       "      <th>Produk</th>\n",
       "      <th>Customer</th>\n",
       "      <th>Kota</th>\n",
       "      <th>Harga Jual</th>\n",
       "      <th>Jumlah Pembelian</th>\n",
       "      <th>Tanggal Pembelian</th>\n",
       "      <th>Total Penjualan</th>\n",
       "    </tr>\n",
       "  </thead>\n",
       "  <tbody>\n",
       "    <tr>\n",
       "      <th>0</th>\n",
       "      <td>1</td>\n",
       "      <td>JAKET</td>\n",
       "      <td>Budi</td>\n",
       "      <td>Surabaya</td>\n",
       "      <td>Rp 250,000</td>\n",
       "      <td>10</td>\n",
       "      <td>4/2/2019</td>\n",
       "      <td>Rp 2,500,000</td>\n",
       "    </tr>\n",
       "    <tr>\n",
       "      <th>1</th>\n",
       "      <td>2</td>\n",
       "      <td>KEMEJA FLANEL BENHILL</td>\n",
       "      <td>Santoso</td>\n",
       "      <td>Surabaya</td>\n",
       "      <td>Rp 300,000</td>\n",
       "      <td>23</td>\n",
       "      <td>4/3/2019</td>\n",
       "      <td>Rp 6,900,000</td>\n",
       "    </tr>\n",
       "    <tr>\n",
       "      <th>2</th>\n",
       "      <td>3</td>\n",
       "      <td>CELANA CHINOS EMBA</td>\n",
       "      <td>Ita</td>\n",
       "      <td>Surabaya</td>\n",
       "      <td>Rp 267,000</td>\n",
       "      <td>22</td>\n",
       "      <td>4/4/2019</td>\n",
       "      <td>Rp 5,874,000</td>\n",
       "    </tr>\n",
       "    <tr>\n",
       "      <th>3</th>\n",
       "      <td>4</td>\n",
       "      <td>KAOS  3SECOND</td>\n",
       "      <td>Erni</td>\n",
       "      <td>Surabaya</td>\n",
       "      <td>Rp 150,000</td>\n",
       "      <td>13</td>\n",
       "      <td>4/5/2019</td>\n",
       "      <td>Rp 1,950,000</td>\n",
       "    </tr>\n",
       "    <tr>\n",
       "      <th>4</th>\n",
       "      <td>5</td>\n",
       "      <td>CELANA PENDEK NEVADA KNIT BASIC</td>\n",
       "      <td>Jipa</td>\n",
       "      <td>Surabaya</td>\n",
       "      <td>Rp 199,000</td>\n",
       "      <td>5</td>\n",
       "      <td>4/6/2019</td>\n",
       "      <td>Rp 995,000</td>\n",
       "    </tr>\n",
       "    <tr>\n",
       "      <th>...</th>\n",
       "      <td>...</td>\n",
       "      <td>...</td>\n",
       "      <td>...</td>\n",
       "      <td>...</td>\n",
       "      <td>...</td>\n",
       "      <td>...</td>\n",
       "      <td>...</td>\n",
       "      <td>...</td>\n",
       "    </tr>\n",
       "    <tr>\n",
       "      <th>58</th>\n",
       "      <td>59</td>\n",
       "      <td>ST.YVES LONG SLEEVE DRESS</td>\n",
       "      <td>Puspita</td>\n",
       "      <td>Sidoarjo</td>\n",
       "      <td>Rp 124,900</td>\n",
       "      <td>17</td>\n",
       "      <td>5/30/2021</td>\n",
       "      <td>Rp 2,123,300</td>\n",
       "    </tr>\n",
       "    <tr>\n",
       "      <th>59</th>\n",
       "      <td>60</td>\n",
       "      <td>ST.YVES PLAIN PANTS RAYON</td>\n",
       "      <td>Reza</td>\n",
       "      <td>Wonosobo</td>\n",
       "      <td>Rp 70,000</td>\n",
       "      <td>14</td>\n",
       "      <td>5/31/2021</td>\n",
       "      <td>Rp 980,000</td>\n",
       "    </tr>\n",
       "    <tr>\n",
       "      <th>60</th>\n",
       "      <td>61</td>\n",
       "      <td>ST.YVES DRESS PRINT LEAF</td>\n",
       "      <td>Hilmy</td>\n",
       "      <td>Wonosobo</td>\n",
       "      <td>Rp 149,900</td>\n",
       "      <td>13</td>\n",
       "      <td>6/1/2021</td>\n",
       "      <td>Rp 1,948,700</td>\n",
       "    </tr>\n",
       "    <tr>\n",
       "      <th>61</th>\n",
       "      <td>62</td>\n",
       "      <td>TULIP SIMPLE SOFT GIRLS PANTY</td>\n",
       "      <td>Jipo</td>\n",
       "      <td>Pare</td>\n",
       "      <td>Rp 64,000</td>\n",
       "      <td>11</td>\n",
       "      <td>6/2/2021</td>\n",
       "      <td>Rp 704,000</td>\n",
       "    </tr>\n",
       "    <tr>\n",
       "      <th>62</th>\n",
       "      <td>63</td>\n",
       "      <td>C2 LISCIO BASIC T-SHIRT TOPS</td>\n",
       "      <td>Ndaru</td>\n",
       "      <td>Pare</td>\n",
       "      <td>Rp 159,999</td>\n",
       "      <td>10</td>\n",
       "      <td>6/3/2021</td>\n",
       "      <td>Rp 1,599,990</td>\n",
       "    </tr>\n",
       "  </tbody>\n",
       "</table>\n",
       "<p>63 rows × 8 columns</p>\n",
       "</div>"
      ],
      "text/plain": [
       "    Nota                           Produk Customer      Kota  Harga Jual  \\\n",
       "0      1                            JAKET     Budi  Surabaya  Rp 250,000   \n",
       "1      2            KEMEJA FLANEL BENHILL  Santoso  Surabaya  Rp 300,000   \n",
       "2      3               CELANA CHINOS EMBA      Ita  Surabaya  Rp 267,000   \n",
       "3      4                    KAOS  3SECOND     Erni  Surabaya  Rp 150,000   \n",
       "4      5  CELANA PENDEK NEVADA KNIT BASIC     Jipa  Surabaya  Rp 199,000   \n",
       "..   ...                              ...      ...       ...         ...   \n",
       "58    59        ST.YVES LONG SLEEVE DRESS  Puspita  Sidoarjo  Rp 124,900   \n",
       "59    60        ST.YVES PLAIN PANTS RAYON     Reza  Wonosobo   Rp 70,000   \n",
       "60    61         ST.YVES DRESS PRINT LEAF    Hilmy  Wonosobo  Rp 149,900   \n",
       "61    62    TULIP SIMPLE SOFT GIRLS PANTY     Jipo      Pare   Rp 64,000   \n",
       "62    63     C2 LISCIO BASIC T-SHIRT TOPS    Ndaru      Pare  Rp 159,999   \n",
       "\n",
       "    Jumlah Pembelian Tanggal Pembelian Total Penjualan  \n",
       "0                 10          4/2/2019    Rp 2,500,000  \n",
       "1                 23          4/3/2019    Rp 6,900,000  \n",
       "2                 22          4/4/2019    Rp 5,874,000  \n",
       "3                 13          4/5/2019    Rp 1,950,000  \n",
       "4                  5          4/6/2019      Rp 995,000  \n",
       "..               ...               ...             ...  \n",
       "58                17         5/30/2021    Rp 2,123,300  \n",
       "59                14         5/31/2021      Rp 980,000  \n",
       "60                13          6/1/2021    Rp 1,948,700  \n",
       "61                11          6/2/2021      Rp 704,000  \n",
       "62                10          6/3/2021    Rp 1,599,990  \n",
       "\n",
       "[63 rows x 8 columns]"
      ]
     },
     "execution_count": 6,
     "metadata": {},
     "output_type": "execute_result"
    }
   ],
   "source": [
    "df = pd.read_csv(\"Penjualan.csv\")\n",
    "df"
   ]
  },
  {
   "cell_type": "code",
   "execution_count": 7,
   "metadata": {},
   "outputs": [],
   "source": [
    "kota = []\n",
    "produk = []\n",
    "\n",
    "for i,j in df.iterrows():\n",
    "    if j[3] not in kota:\n",
    "        kota.append(j[3])\n",
    "        \n",
    "    k = -1\n",
    "    for index, value in enumerate(kota):\n",
    "        if value == j[3]:\n",
    "            k = index+1\n",
    "            break\n",
    "\n",
    "    if isinstance(j[1], str):\n",
    "        if [j[1],j[4].replace(\"Rp\", \"\").replace(\",\", \"\")[0:-3]] not in produk:\n",
    "            produk.append([j[1],j[4].replace(\"Rp\", \"\").replace(\",\", \"\")[0:-3]])\n"
   ]
  },
  {
   "cell_type": "code",
   "execution_count": 8,
   "metadata": {},
   "outputs": [],
   "source": [
    "c.execute(\"DELETE FROM KOTA\")\n",
    "for index, i in enumerate(kota): \n",
    "    c.execute(\"INSERT INTO KOTA VALUES(\" + str(index+1) + \", '\" + str(i) + \"')\")\n",
    "    \n",
    "c.execute(\"DELETE FROM PRODUK\")\n",
    "for index, i in enumerate(produk): \n",
    "    c.execute(\"INSERT INTO PRODUK VALUES(\" + str(index+1) + \", '\" + str(i[0]) + \"','\"+str(i[1])+\"')\")\n",
    "    \n",
    "conn.commit()"
   ]
  },
  {
   "cell_type": "code",
   "execution_count": 9,
   "metadata": {},
   "outputs": [
    {
     "name": "stdout",
     "output_type": "stream",
     "text": [
      "========================KOTA================================\n",
      "[(1, 'Surabaya'), (2, 'Wonosobo'), (3, 'Sidoarjo'), (4, 'Trenggalek'), (5, 'Kediri'), (6, 'Mojokerto'), (7, 'Jombang'), (8, 'Tulungangung'), (9, 'Madiun'), (10, 'Lamongan'), (11, 'Pasuruan'), (12, 'Pandaan'), (13, 'Pare'), (14, 'Ngawi'), (15, 'Sragen'), (16, 'Surakarta'), (17, 'Gresik')]\n",
      "============================================================\n",
      "========================PRODUK================================\n",
      "[(1, 'JAKET', 250.0), (2, 'KEMEJA FLANEL BENHILL', 300.0), (3, 'CELANA CHINOS EMBA', 267.0), (4, 'KAOS  3SECOND', 150.0), (5, 'CELANA PENDEK NEVADA KNIT BASIC', 199.0), (6, 'COLE SLIP ON', 299.0), (7, 'KEMEJA NEVADA MEDIUM CHECKS', 189.0), (8, 'KEMEJA NEVADA LONG SLEEVE', 210.0), (9, 'DASTER NEVADA LENGAN PENDEK HAFLEY CAT', 139.0), (10, 'TATUIS MUKENA LAYYANAH KHANSA', 400.0), (11, 'ANNISA ROK FRONT DART', 230.0), (12, 'NEVADA SANDALS EVAN JEPIT', 269.0), (13, 'PAKALOLO FLIP FLOP SANDALS', 198.0), (14, 'OVS SNEAKERS SPORT NET', 313.0), (15, 'MARVEL SPIDERMAN FLIP FLOPS', 205.0), (16, 'KAOS KAKI MARVEL SIDERMAN', 56.0), (17, 'TRISET FLAT SANDAL THONG', 215.0), (18, 'FILA SEPATU OLAHRAGA LENNON', 318.0), (19, 'WATCHOUT SEPATU FORMAL KLASIK', 399.0), (20, 'MAYBELLINE LIQUID LIPSTICK', 76.0), (21, 'WARDAH EYESHADOW A', 35.0), (22, 'OVS HOODIE FULL ZIPPER', 119.0), (23, 'PHENOMENAL T-SHIRT CHAIN', 149.0), (24, 'CONNEXION CELANA FORMAL ANKLE', 153.0), (25, 'NEVADA SWATSHIRT LOVE KNIT', 90.0), (26, 'ST. YVES BALLERINAS BUCKLE', 143.0), (27, 'NEVADA FLAT BALLERINA', 120.0), (28, 'NEVADA SNEAKERS WOMEN', 230.0), (29, 'LITTLE M T-SHIRT BASIC BEST BUY BUILDER', 34.0), (30, 'NEVADA JOGGER BT STRIPE TAPE 1', 100.0), (31, 'KAOS KAKI MARVEL SPIDERMAN BADGE ', 10.0), (32, 'PIPINIKO T-SHIRT FULLPRINT BUNNY', 24.0), (33, 'LITTLE M JAKET PRINT CUTE GIRLS', 70.0), (34, 'EMINA AQUA INFUSED SLEEPING MASK', 34.0), (35, 'BODY MIST INDIAN SUMMER 10 ML', 15.0), (36, 'MAYBELLINE CONCEALER SUPERSTAY', 179.0), (37, 'MAKE OVER MICELLAR WATER 185 ML', 63.0), (38, 'C-DEFENSE DD CREAM', 23.0), (39, 'C-DEFENSE SERUM 17 ML', 61.0), (40, 'WARDAH EYEXPERT EYEBROW KIT 3 GR', 53.0), (41, 'EMINA MAGIC POTION', 39.0), (42, 'EMINA AGENT OF BROW BROWN 1.2 GR', 24.0), (43, 'SILKYGIRL BLOOM N BLUSH 02', 57.0), (44, 'JIM JOKER OFFICIAL JERUK 2B', 367.0), (45, 'JIM JOKER OFFICIAL PLUTO 02', 298.0), (46, 'JIM JOKER SHOES OFFICIAL PURE', 531.0), (47, 'ADIDAS CF RACER TR', 400.0), (48, 'COLE CELANA PENDEK', 159.0), (49, 'NEVADA JUMPER HOODIE', 149.0), (50, 'COLE SLEEVELESS COMFORT SINGLET', 47.0), (51, 'CARDINAL JEANS SHORT SLEEVE KEMEJA KOKO', 169.0), (52, 'COLE BOXER 2 IN 1', 95.0), (53, 'CROCODILE CROP TOP T-SHIRT PRIA', 49.0), (54, 'WALRUS KAOS POLO PRIA MOTIF GARIS', 99.0), (55, 'COLE ROUND NECK BASIC TOP', 55.0), (56, 'T ZONE RAGLAN BASIC 3/4', 80.0), (57, 'ANNISA HIJAB PRINT ROSE', 90.0), (58, 'ANNISA HIJAB PRINT LEAF', 90.0), (59, 'ST.YVES LONG SLEEVE DRESS', 124.0), (60, 'ST.YVES PLAIN PANTS RAYON', 70.0), (61, 'ST.YVES DRESS PRINT LEAF', 149.0), (62, 'TULIP SIMPLE SOFT GIRLS PANTY', 64.0), (63, 'C2 LISCIO BASIC T-SHIRT TOPS', 159.0)]\n",
      "============================================================\n"
     ]
    }
   ],
   "source": [
    "c.execute('''SELECT * FROM KOTA''')\n",
    "\n",
    "KOTA = []\n",
    "for row in c.fetchall():\n",
    "    KOTA.append(row)\n",
    "print(\"========================KOTA================================\")\n",
    "print(KOTA)\n",
    "print(\"============================================================\")\n",
    "\n",
    "c.execute('''SELECT * FROM PRODUK''')\n",
    "PRODUK = []\n",
    "for row in c.fetchall():\n",
    "    PRODUK.append(row)\n",
    "print(\"========================PRODUK================================\")\n",
    "print(PRODUK)\n",
    "print(\"============================================================\")"
   ]
  },
  {
   "cell_type": "code",
   "execution_count": 10,
   "metadata": {},
   "outputs": [
    {
     "data": {
      "text/html": [
       "<div>\n",
       "<style scoped>\n",
       "    .dataframe tbody tr th:only-of-type {\n",
       "        vertical-align: middle;\n",
       "    }\n",
       "\n",
       "    .dataframe tbody tr th {\n",
       "        vertical-align: top;\n",
       "    }\n",
       "\n",
       "    .dataframe thead th {\n",
       "        text-align: right;\n",
       "    }\n",
       "</style>\n",
       "<table border=\"1\" class=\"dataframe\">\n",
       "  <thead>\n",
       "    <tr style=\"text-align: right;\">\n",
       "      <th></th>\n",
       "      <th>Nota</th>\n",
       "      <th>Jumlah Pembelian</th>\n",
       "    </tr>\n",
       "  </thead>\n",
       "  <tbody>\n",
       "    <tr>\n",
       "      <th>count</th>\n",
       "      <td>63.000000</td>\n",
       "      <td>63.000000</td>\n",
       "    </tr>\n",
       "    <tr>\n",
       "      <th>mean</th>\n",
       "      <td>32.000000</td>\n",
       "      <td>15.333333</td>\n",
       "    </tr>\n",
       "    <tr>\n",
       "      <th>std</th>\n",
       "      <td>18.330303</td>\n",
       "      <td>9.152824</td>\n",
       "    </tr>\n",
       "    <tr>\n",
       "      <th>min</th>\n",
       "      <td>1.000000</td>\n",
       "      <td>5.000000</td>\n",
       "    </tr>\n",
       "    <tr>\n",
       "      <th>25%</th>\n",
       "      <td>16.500000</td>\n",
       "      <td>10.000000</td>\n",
       "    </tr>\n",
       "    <tr>\n",
       "      <th>50%</th>\n",
       "      <td>32.000000</td>\n",
       "      <td>13.000000</td>\n",
       "    </tr>\n",
       "    <tr>\n",
       "      <th>75%</th>\n",
       "      <td>47.500000</td>\n",
       "      <td>18.500000</td>\n",
       "    </tr>\n",
       "    <tr>\n",
       "      <th>max</th>\n",
       "      <td>63.000000</td>\n",
       "      <td>65.000000</td>\n",
       "    </tr>\n",
       "  </tbody>\n",
       "</table>\n",
       "</div>"
      ],
      "text/plain": [
       "            Nota  Jumlah Pembelian\n",
       "count  63.000000         63.000000\n",
       "mean   32.000000         15.333333\n",
       "std    18.330303          9.152824\n",
       "min     1.000000          5.000000\n",
       "25%    16.500000         10.000000\n",
       "50%    32.000000         13.000000\n",
       "75%    47.500000         18.500000\n",
       "max    63.000000         65.000000"
      ]
     },
     "execution_count": 10,
     "metadata": {},
     "output_type": "execute_result"
    }
   ],
   "source": [
    "df.describe()"
   ]
  },
  {
   "cell_type": "code",
   "execution_count": 11,
   "metadata": {},
   "outputs": [
    {
     "data": {
      "text/html": [
       "<div>\n",
       "<style scoped>\n",
       "    .dataframe tbody tr th:only-of-type {\n",
       "        vertical-align: middle;\n",
       "    }\n",
       "\n",
       "    .dataframe tbody tr th {\n",
       "        vertical-align: top;\n",
       "    }\n",
       "\n",
       "    .dataframe thead th {\n",
       "        text-align: right;\n",
       "    }\n",
       "</style>\n",
       "<table border=\"1\" class=\"dataframe\">\n",
       "  <thead>\n",
       "    <tr style=\"text-align: right;\">\n",
       "      <th></th>\n",
       "      <th>Produk</th>\n",
       "      <th>Jumlah Pembelian</th>\n",
       "    </tr>\n",
       "  </thead>\n",
       "  <tbody>\n",
       "    <tr>\n",
       "      <th>0</th>\n",
       "      <td>PIPINIKO T-SHIRT FULLPRINT BUNNY</td>\n",
       "      <td>65</td>\n",
       "    </tr>\n",
       "    <tr>\n",
       "      <th>1</th>\n",
       "      <td>NEVADA FLAT BALLERINA</td>\n",
       "      <td>34</td>\n",
       "    </tr>\n",
       "    <tr>\n",
       "      <th>2</th>\n",
       "      <td>WATCHOUT SEPATU FORMAL KLASIK</td>\n",
       "      <td>33</td>\n",
       "    </tr>\n",
       "    <tr>\n",
       "      <th>3</th>\n",
       "      <td>LITTLE M JAKET PRINT CUTE GIRLS</td>\n",
       "      <td>32</td>\n",
       "    </tr>\n",
       "    <tr>\n",
       "      <th>4</th>\n",
       "      <td>EMINA AGENT OF BROW BROWN 1.2 GR</td>\n",
       "      <td>30</td>\n",
       "    </tr>\n",
       "  </tbody>\n",
       "</table>\n",
       "</div>"
      ],
      "text/plain": [
       "                             Produk  Jumlah Pembelian\n",
       "0  PIPINIKO T-SHIRT FULLPRINT BUNNY                65\n",
       "1             NEVADA FLAT BALLERINA                34\n",
       "2     WATCHOUT SEPATU FORMAL KLASIK                33\n",
       "3   LITTLE M JAKET PRINT CUTE GIRLS                32\n",
       "4  EMINA AGENT OF BROW BROWN 1.2 GR                30"
      ]
     },
     "execution_count": 11,
     "metadata": {},
     "output_type": "execute_result"
    }
   ],
   "source": [
    "#menghitung jumlah produk paling banyak dijual\n",
    "produk_paling_banyak_dijual = df[['Produk', 'Jumlah Pembelian']].groupby(['Produk']).sum().sort_values(by='Jumlah Pembelian',ascending=False).reset_index()\n",
    "produk_paling_banyak_dijual.head()"
   ]
  },
  {
   "cell_type": "code",
   "execution_count": 12,
   "metadata": {},
   "outputs": [
    {
     "data": {
      "image/png": "[encoded data removed]",
      "text/plain": [
       "<Figure size 432x288 with 1 Axes>"
      ]
     },
     "metadata": {},
     "output_type": "display_data"
    }
   ],
   "source": [
    "### 15 produk yang paling banyak dijual:\n",
    "sns.barplot(x='Jumlah Pembelian',y='Produk',data=produk_paling_banyak_dijual[:15],color=\"blue\")\n",
    "plt.xlabel(\"Jumlah Pembelian\")\n",
    "plt.ylabel(\"Produk\")\n",
    "plt.title(\"Jumlah produk yang paling laris\")\n",
    "plt.xticks(rotation='horizontal')\n",
    "plt.show()"
   ]
  },
  {
   "cell_type": "markdown",
   "metadata": {},
   "source": [
    "#### > jadi dari diagram tersebut dapat disimpulkan bahwa jumlah produk paling laris yaitu pipiniko T-shirt fullprint bunny, dengan total pembelian diatas 60"
   ]
  },
  {
   "cell_type": "code",
   "execution_count": 13,
   "metadata": {},
   "outputs": [
    {
     "data": {
      "text/plain": [
       "Surabaya        15\n",
       "Trenggalek       6\n",
       "Mojokerto        5\n",
       "Sidoarjo         5\n",
       "Ngawi            4\n",
       "Pare             4\n",
       "Pasuruan         3\n",
       "Wonosobo         3\n",
       "Sragen           3\n",
       "Jombang          3\n",
       "Gresik           3\n",
       "Lamongan         2\n",
       "Madiun           2\n",
       "Pandaan          2\n",
       "Tulungangung     1\n",
       "Kediri           1\n",
       "Surakarta        1\n",
       "Name: Kota, dtype: int64"
      ]
     },
     "execution_count": 13,
     "metadata": {},
     "output_type": "execute_result"
    }
   ],
   "source": [
    "df['Kota'].value_counts()"
   ]
  },
  {
   "cell_type": "code",
   "execution_count": 14,
   "metadata": {},
   "outputs": [
    {
     "data": {
      "text/html": [
       "<div>\n",
       "<style scoped>\n",
       "    .dataframe tbody tr th:only-of-type {\n",
       "        vertical-align: middle;\n",
       "    }\n",
       "\n",
       "    .dataframe tbody tr th {\n",
       "        vertical-align: top;\n",
       "    }\n",
       "\n",
       "    .dataframe thead th {\n",
       "        text-align: right;\n",
       "    }\n",
       "</style>\n",
       "<table border=\"1\" class=\"dataframe\">\n",
       "  <thead>\n",
       "    <tr style=\"text-align: right;\">\n",
       "      <th></th>\n",
       "      <th>Kota</th>\n",
       "      <th>Customer</th>\n",
       "    </tr>\n",
       "  </thead>\n",
       "  <tbody>\n",
       "    <tr>\n",
       "      <th>0</th>\n",
       "      <td>Surabaya</td>\n",
       "      <td>15</td>\n",
       "    </tr>\n",
       "    <tr>\n",
       "      <th>1</th>\n",
       "      <td>Trenggalek</td>\n",
       "      <td>6</td>\n",
       "    </tr>\n",
       "    <tr>\n",
       "      <th>2</th>\n",
       "      <td>Mojokerto</td>\n",
       "      <td>5</td>\n",
       "    </tr>\n",
       "    <tr>\n",
       "      <th>3</th>\n",
       "      <td>Sidoarjo</td>\n",
       "      <td>5</td>\n",
       "    </tr>\n",
       "    <tr>\n",
       "      <th>4</th>\n",
       "      <td>Pare</td>\n",
       "      <td>4</td>\n",
       "    </tr>\n",
       "  </tbody>\n",
       "</table>\n",
       "</div>"
      ],
      "text/plain": [
       "         Kota  Customer\n",
       "0    Surabaya        15\n",
       "1  Trenggalek         6\n",
       "2   Mojokerto         5\n",
       "3    Sidoarjo         5\n",
       "4        Pare         4"
      ]
     },
     "execution_count": 14,
     "metadata": {},
     "output_type": "execute_result"
    }
   ],
   "source": [
    "#menghitung jumlah pembelian paling banyak berdasarkan kota\n",
    "produk_paling_banyak_dijual_perkota = df[['Kota', 'Customer']].groupby(['Kota']).count().sort_values(by='Customer',ascending=False).reset_index()\n",
    "produk_paling_banyak_dijual_perkota.head()"
   ]
  },
  {
   "cell_type": "code",
   "execution_count": 15,
   "metadata": {},
   "outputs": [
    {
     "data": {
      "image/png": "[encoded data removed]",
      "text/plain": [
       "<Figure size 432x288 with 1 Axes>"
      ]
     },
     "metadata": {},
     "output_type": "display_data"
    }
   ],
   "source": [
    "### 17 kota dengan pembelian paling banyak:\n",
    "sns.barplot(x='Customer',y='Kota',data=produk_paling_banyak_dijual_perkota[:17],color=\"red\")\n",
    "plt.xlabel(\"Jumlah Customer\")\n",
    "plt.ylabel(\"Kota\")\n",
    "plt.title(\"Jumlah customer paling banyak berdasarkan kota\")\n",
    "plt.xticks(rotation='horizontal')\n",
    "plt.show()"
   ]
  },
  {
   "cell_type": "markdown",
   "metadata": {},
   "source": [
    "#### > dari diagram diatas dapat disimpulkan bahwa jumlah customer terbanyak yang melakukan pembelian yaitu pada kota surabaya dengan total customer sebanyak 15 customer, disusul dengan kota trenggalek dengan 6 customer"
   ]
  },
  {
   "cell_type": "code",
   "execution_count": 16,
   "metadata": {},
   "outputs": [
    {
     "data": {
      "text/html": [
       "<div>\n",
       "<style scoped>\n",
       "    .dataframe tbody tr th:only-of-type {\n",
       "        vertical-align: middle;\n",
       "    }\n",
       "\n",
       "    .dataframe tbody tr th {\n",
       "        vertical-align: top;\n",
       "    }\n",
       "\n",
       "    .dataframe thead th {\n",
       "        text-align: right;\n",
       "    }\n",
       "</style>\n",
       "<table border=\"1\" class=\"dataframe\">\n",
       "  <thead>\n",
       "    <tr style=\"text-align: right;\">\n",
       "      <th></th>\n",
       "      <th>Kota</th>\n",
       "      <th>Jumlah Pembelian</th>\n",
       "    </tr>\n",
       "  </thead>\n",
       "  <tbody>\n",
       "    <tr>\n",
       "      <th>0</th>\n",
       "      <td>Surabaya</td>\n",
       "      <td>10</td>\n",
       "    </tr>\n",
       "    <tr>\n",
       "      <th>1</th>\n",
       "      <td>Surabaya</td>\n",
       "      <td>23</td>\n",
       "    </tr>\n",
       "    <tr>\n",
       "      <th>2</th>\n",
       "      <td>Surabaya</td>\n",
       "      <td>22</td>\n",
       "    </tr>\n",
       "    <tr>\n",
       "      <th>3</th>\n",
       "      <td>Surabaya</td>\n",
       "      <td>13</td>\n",
       "    </tr>\n",
       "    <tr>\n",
       "      <th>4</th>\n",
       "      <td>Surabaya</td>\n",
       "      <td>5</td>\n",
       "    </tr>\n",
       "  </tbody>\n",
       "</table>\n",
       "</div>"
      ],
      "text/plain": [
       "       Kota  Jumlah Pembelian\n",
       "0  Surabaya                10\n",
       "1  Surabaya                23\n",
       "2  Surabaya                22\n",
       "3  Surabaya                13\n",
       "4  Surabaya                 5"
      ]
     },
     "execution_count": 16,
     "metadata": {},
     "output_type": "execute_result"
    }
   ],
   "source": [
    "df_groupby_kota = df[['Kota', 'Jumlah Pembelian']]\n",
    "df_groupby_kota.head()"
   ]
  },
  {
   "cell_type": "code",
   "execution_count": 20,
   "metadata": {},
   "outputs": [
    {
     "data": {
      "text/html": [
       "<div>\n",
       "<style scoped>\n",
       "    .dataframe tbody tr th:only-of-type {\n",
       "        vertical-align: middle;\n",
       "    }\n",
       "\n",
       "    .dataframe tbody tr th {\n",
       "        vertical-align: top;\n",
       "    }\n",
       "\n",
       "    .dataframe thead th {\n",
       "        text-align: right;\n",
       "    }\n",
       "</style>\n",
       "<table border=\"1\" class=\"dataframe\">\n",
       "  <thead>\n",
       "    <tr style=\"text-align: right;\">\n",
       "      <th></th>\n",
       "      <th>Jumlah Pembelian</th>\n",
       "    </tr>\n",
       "    <tr>\n",
       "      <th>Kota</th>\n",
       "      <th></th>\n",
       "    </tr>\n",
       "  </thead>\n",
       "  <tbody>\n",
       "    <tr>\n",
       "      <th>Gresik</th>\n",
       "      <td>7.666667</td>\n",
       "    </tr>\n",
       "    <tr>\n",
       "      <th>Jombang</th>\n",
       "      <td>17.666667</td>\n",
       "    </tr>\n",
       "    <tr>\n",
       "      <th>Kediri</th>\n",
       "      <td>11.000000</td>\n",
       "    </tr>\n",
       "    <tr>\n",
       "      <th>Lamongan</th>\n",
       "      <td>22.500000</td>\n",
       "    </tr>\n",
       "    <tr>\n",
       "      <th>Madiun</th>\n",
       "      <td>19.500000</td>\n",
       "    </tr>\n",
       "  </tbody>\n",
       "</table>\n",
       "</div>"
      ],
      "text/plain": [
       "          Jumlah Pembelian\n",
       "Kota                      \n",
       "Gresik            7.666667\n",
       "Jombang          17.666667\n",
       "Kediri           11.000000\n",
       "Lamongan         22.500000\n",
       "Madiun           19.500000"
      ]
     },
     "execution_count": 20,
     "metadata": {},
     "output_type": "execute_result"
    }
   ],
   "source": [
    "#rata-rata jumlah pembelian per-kota\n",
    "df_groupby_kota = df_groupby_kota.groupby(['Kota']).mean()\n",
    "df_groupby_kota.head()"
   ]
  },
  {
   "cell_type": "markdown",
   "metadata": {},
   "source": [
    "#### > Tabel diatas menyimpulkan data dari rata-rata jumlah pembelian dari setiap kota"
   ]
  },
  {
   "cell_type": "code",
   "execution_count": null,
   "metadata": {},
   "outputs": [],
   "source": []
  }
 ],
 "metadata": {
  "kernelspec": {
   "display_name": "Python 3",
   "language": "python",
   "name": "python3"
  },
  "language_info": {
   "codemirror_mode": {
    "name": "ipython",
    "version": 3
   },
   "file_extension": ".py",
   "mimetype": "text/x-python",
   "name": "python",
   "nbconvert_exporter": "python",
   "pygments_lexer": "ipython3",
   "version": "3.8.5"
  }
 },
 "nbformat": 4,
 "nbformat_minor": 5
}
